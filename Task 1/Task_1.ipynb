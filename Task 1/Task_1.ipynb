{
 "cells": [
  {
   "cell_type": "code",
   "execution_count": 4,
   "id": "b508fafa",
   "metadata": {},
   "outputs": [
    {
     "name": "stderr",
     "output_type": "stream",
     "text": [
      "\n",
      "image 1/1 C:\\Users\\Admin\\Desktop\\Entrance_Test\\Task 1\\Input\\Level 3.jpg: 640x384 1 person, 1 backpack, 1 handbag, 323.8ms\n",
      "Speed: 1.0ms preprocess, 323.8ms inference, 2.0ms postprocess per image at shape (1, 3, 640, 384)\n"
     ]
    },
    {
     "data": {
      "text/plain": [
       "-1"
      ]
     },
     "execution_count": 4,
     "metadata": {},
     "output_type": "execute_result"
    }
   ],
   "source": [
    "from ultralytics import YOLO\n",
    "import os\n",
    "import cv2\n",
    "import cvzone \n",
    "import math\n",
    "\n",
    "# Set up path\n",
    "lv1_image_dir = \"/Task 1/Input/Level 1.jpg\"\n",
    "lv2_image_dir = \"/Task 1/Input/Level 2.jpg\"\n",
    "lv3_image_dir = \"/Task 1/Input/Level 3.jpg\"\n",
    "current_dir = os.getcwd().replace(\"\\\\\",\"/\")\n",
    "\n",
    "# # Load a model\n",
    "model = YOLO(\"yolov8l.pt\")  # load a pretrained model \n",
    "\n",
    "\n",
    "# Load a video\n",
    "cap =cv2.VideoCapture(\"./\")"
   ]
  },
  {
   "cell_type": "code",
   "execution_count": null,
   "id": "ad5dd0c9",
   "metadata": {},
   "outputs": [],
   "source": []
  }
 ],
 "metadata": {
  "kernelspec": {
   "display_name": "Python 3 (ipykernel)",
   "language": "python",
   "name": "python3"
  },
  "language_info": {
   "codemirror_mode": {
    "name": "ipython",
    "version": 3
   },
   "file_extension": ".py",
   "mimetype": "text/x-python",
   "name": "python",
   "nbconvert_exporter": "python",
   "pygments_lexer": "ipython3",
   "version": "3.10.13"
  }
 },
 "nbformat": 4,
 "nbformat_minor": 5
}
